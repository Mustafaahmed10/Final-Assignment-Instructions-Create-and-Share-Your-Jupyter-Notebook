{
 "cells": [
  {
   "cell_type": "markdown",
   "id": "be4878dc",
   "metadata": {},
   "source": [
    "# Data Science Tools and Ecosystem"
   ]
  },
  {
   "cell_type": "markdown",
   "id": "69a89800",
   "metadata": {},
   "source": [
    "In this notebook, we will explore some of the most commonly used tools, languages, and libraries in the field of data science."
   ]
  },
  {
   "cell_type": "markdown",
   "id": "e28ec10f",
   "metadata": {},
   "source": [
    "## Some popular languages that Data Scientists use are:\n",
    "\n",
    "1. Python\n",
    "2. R\n",
    "3. SQL\n",
    "4. Julia\n",
    "5. Scala\n",
    "6. Java"
   ]
  },
  {
   "cell_type": "markdown",
   "id": "c29a4ba4",
   "metadata": {},
   "source": [
    "## Some commonly used libraries by Data Scientists include:\n",
    "\n",
    "- Pandas\n",
    "- NumPy\n",
    "- Scikit-learn\n",
    "- TensorFlow\n",
    "- Matplotlib\n",
    "- ggplot2"
   ]
  },
  {
   "cell_type": "markdown",
   "id": "7ee19a8a",
   "metadata": {},
   "source": [
    "| Tool | Description |\n",
    "|------|-------------|\n",
    "| Jupyter Notebook | Web-based interactive computing environment |\n",
    "| RStudio | IDE for R |\n",
    "| Apache Zeppelin | Web-based notebook for data analytics |\n",
    "| Google Colab | Jupyter notebook in the cloud |"
   ]
  },
  {
   "cell_type": "markdown",
   "id": "af2e64db",
   "metadata": {},
   "source": [
    "### Examples of evaluating arithmetic expressions in Python"
   ]
  },
  {
   "cell_type": "code",
   "execution_count": null,
   "id": "0db5eb7d",
   "metadata": {},
   "outputs": [],
   "source": [
    "# This will multiply and add numbers\n",
    "(3 * 4) + 5"
   ]
  },
  {
   "cell_type": "code",
   "execution_count": null,
   "id": "5db05ac0",
   "metadata": {},
   "outputs": [],
   "source": [
    "# Convert 200 minutes to hours\n",
    "200 / 60"
   ]
  },
  {
   "cell_type": "markdown",
   "id": "48bbf334",
   "metadata": {},
   "source": [
    "## Objectives:\n",
    "- List popular languages for Data Science\n",
    "- List commonly used libraries\n",
    "- Use arithmetic expressions\n",
    "- Create and format tables\n",
    "- Share notebooks via GitHub"
   ]
  },
  {
   "cell_type": "markdown",
   "id": "57705511",
   "metadata": {},
   "source": [
    "**Author**: Your Name"
   ]
  },
  {
   "cell_type": "markdown",
   "id": "6d1e1173",
   "metadata": {},
   "source": [
    "*(To complete this assignment, upload this notebook to a public GitHub repository and take a screenshot of this page to include in your peer review submission.)*"
   ]
  }
 ],
 "metadata": {},
 "nbformat": 4,
 "nbformat_minor": 5
}
